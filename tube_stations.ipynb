{
 "cells": [
  {
   "cell_type": "code",
   "execution_count": 1,
   "metadata": {},
   "outputs": [],
   "source": [
    "# importing necessary packages\n",
    "\n",
    "from bs4 import BeautifulSoup\n",
    "from selenium import webdriver\n",
    "from selenium.webdriver.common.by import By\n",
    "from selenium.webdriver.support.wait import WebDriverWait\n",
    "from selenium.webdriver.support import expected_conditions as EC\n",
    "from selenium.webdriver.common.action_chains import ActionChains\n",
    "from selenium.common.exceptions import NoSuchElementException\n",
    "from selenium.webdriver.chrome.options import Options\n",
    "\n",
    "import time\n",
    "import pprint\n",
    "import pymongo\n",
    "from pymongo import MongoClient\n",
    "import pandas as pd"
   ]
  },
  {
   "cell_type": "code",
   "execution_count": 2,
   "metadata": {},
   "outputs": [],
   "source": [
    "# defining a universal pause time\n",
    "SCROLL_PAUSE_TIME = 0.5"
   ]
  },
  {
   "cell_type": "code",
   "execution_count": 3,
   "metadata": {},
   "outputs": [],
   "source": [
    "# creating a chrome drive instance\n",
    "driver = webdriver.Chrome()\n",
    "\n",
    "# getting the url\n",
    "url = \"https://en.wikipedia.org/wiki/List_of_London_Underground_stations\"\n",
    "driver.get(url)\n",
    "\n",
    "# finding the element and scrolling to the element\n",
    "table_element = driver.find_element(By.XPATH, '//*[@id=\"mw-content-text\"]/div[1]/table[1]')\n",
    "driver.execute_script(\"arguments[0].scrollIntoView({'block':'start', 'inline':'nearest'})\", table_element)\n"
   ]
  },
  {
   "cell_type": "code",
   "execution_count": 4,
   "metadata": {},
   "outputs": [
    {
     "name": "stderr",
     "output_type": "stream",
     "text": [
      "C:\\Users\\snkri\\AppData\\Local\\Temp\\ipykernel_25328\\4144351211.py:8: FutureWarning: Passing literal html to 'read_html' is deprecated and will be removed in a future version. To read from a literal string, wrap it in a 'StringIO' object.\n",
      "  df = pd.read_html(str(names_table))\n"
     ]
    },
    {
     "data": {
      "text/html": [
       "<div>\n",
       "<style scoped>\n",
       "    .dataframe tbody tr th:only-of-type {\n",
       "        vertical-align: middle;\n",
       "    }\n",
       "\n",
       "    .dataframe tbody tr th {\n",
       "        vertical-align: top;\n",
       "    }\n",
       "\n",
       "    .dataframe thead th {\n",
       "        text-align: right;\n",
       "    }\n",
       "</style>\n",
       "<table border=\"1\" class=\"dataframe\">\n",
       "  <thead>\n",
       "    <tr style=\"text-align: right;\">\n",
       "      <th></th>\n",
       "      <th>Station</th>\n",
       "      <th>Photograph</th>\n",
       "      <th>Line(s)[*]</th>\n",
       "      <th>Local authority</th>\n",
       "      <th>Zone(s)[†]</th>\n",
       "      <th>Opened[5]</th>\n",
       "      <th>Main line opened</th>\n",
       "      <th>Other name(s)[note 2]</th>\n",
       "      <th>Usage (millions per year)[6]</th>\n",
       "      <th>Area Served</th>\n",
       "    </tr>\n",
       "  </thead>\n",
       "  <tbody>\n",
       "    <tr>\n",
       "      <th>0</th>\n",
       "      <td>Acton Town</td>\n",
       "      <td>NaN</td>\n",
       "      <td>DistrictPiccadilly</td>\n",
       "      <td>Ealing</td>\n",
       "      <td>3</td>\n",
       "      <td>1 July 1879</td>\n",
       "      <td>NaN</td>\n",
       "      <td>Mill Hill Park: 1879–1910</td>\n",
       "      <td>4.93</td>\n",
       "      <td>Acton</td>\n",
       "    </tr>\n",
       "    <tr>\n",
       "      <th>1</th>\n",
       "      <td>Aldgate</td>\n",
       "      <td>NaN</td>\n",
       "      <td>Metropolitan[a]Circle</td>\n",
       "      <td>City of London</td>\n",
       "      <td>1</td>\n",
       "      <td>18 November 1876</td>\n",
       "      <td>NaN</td>\n",
       "      <td>NaN</td>\n",
       "      <td>6.90</td>\n",
       "      <td>Portsoken</td>\n",
       "    </tr>\n",
       "    <tr>\n",
       "      <th>2</th>\n",
       "      <td>Aldgate East</td>\n",
       "      <td>NaN</td>\n",
       "      <td>Hammersmith &amp; City[d]District</td>\n",
       "      <td>Tower Hamlets</td>\n",
       "      <td>1</td>\n",
       "      <td>6 October 1884 (resited 31 October 1938)</td>\n",
       "      <td>NaN</td>\n",
       "      <td>Commercial Road: (Proposed before opening)</td>\n",
       "      <td>10.23</td>\n",
       "      <td>Whitechapel</td>\n",
       "    </tr>\n",
       "    <tr>\n",
       "      <th>3</th>\n",
       "      <td>Alperton</td>\n",
       "      <td>NaN</td>\n",
       "      <td>Piccadilly[h]</td>\n",
       "      <td>Brent</td>\n",
       "      <td>4</td>\n",
       "      <td>28 June 1903</td>\n",
       "      <td>NaN</td>\n",
       "      <td>Perivale-Alperton: 1903–10</td>\n",
       "      <td>2.30</td>\n",
       "      <td>Alperton</td>\n",
       "    </tr>\n",
       "    <tr>\n",
       "      <th>4</th>\n",
       "      <td>Amersham</td>\n",
       "      <td>NaN</td>\n",
       "      <td>Metropolitan</td>\n",
       "      <td>Buckinghamshire</td>\n",
       "      <td>9</td>\n",
       "      <td>1 September 1892</td>\n",
       "      <td>NaN</td>\n",
       "      <td>Amersham: 1892–1922Amersham &amp; Chesham Bois: 19...</td>\n",
       "      <td>1.66</td>\n",
       "      <td>Amersham</td>\n",
       "    </tr>\n",
       "  </tbody>\n",
       "</table>\n",
       "</div>"
      ],
      "text/plain": [
       "        Station  Photograph                     Line(s)[*]  Local authority  \\\n",
       "0    Acton Town         NaN             DistrictPiccadilly           Ealing   \n",
       "1       Aldgate         NaN          Metropolitan[a]Circle   City of London   \n",
       "2  Aldgate East         NaN  Hammersmith & City[d]District    Tower Hamlets   \n",
       "3      Alperton         NaN                  Piccadilly[h]            Brent   \n",
       "4      Amersham         NaN                   Metropolitan  Buckinghamshire   \n",
       "\n",
       "  Zone(s)[†]                                 Opened[5] Main line opened  \\\n",
       "0          3                               1 July 1879              NaN   \n",
       "1          1                          18 November 1876              NaN   \n",
       "2          1  6 October 1884 (resited 31 October 1938)              NaN   \n",
       "3          4                              28 June 1903              NaN   \n",
       "4          9                          1 September 1892              NaN   \n",
       "\n",
       "                               Other name(s)[note 2]  \\\n",
       "0                          Mill Hill Park: 1879–1910   \n",
       "1                                                NaN   \n",
       "2         Commercial Road: (Proposed before opening)   \n",
       "3                         Perivale-Alperton: 1903–10   \n",
       "4  Amersham: 1892–1922Amersham & Chesham Bois: 19...   \n",
       "\n",
       "  Usage (millions per year)[6]  Area Served  \n",
       "0                         4.93        Acton  \n",
       "1                         6.90    Portsoken  \n",
       "2                        10.23  Whitechapel  \n",
       "3                         2.30     Alperton  \n",
       "4                         1.66     Amersham  "
      ]
     },
     "execution_count": 4,
     "metadata": {},
     "output_type": "execute_result"
    }
   ],
   "source": [
    "# creating a scraper\n",
    "soup = BeautifulSoup(driver.page_source, \"html.parser\")\n",
    "\n",
    "# finding all the elements\n",
    "names_table = soup.find_all('table', class_='wikitable sortable plainrowheaders jquery-tablesorter')\n",
    "\n",
    "# creating a dataframe\n",
    "df = pd.read_html(str(names_table))\n",
    "df = pd.DataFrame(df[0])\n",
    "\n",
    "df.head()"
   ]
  },
  {
   "cell_type": "code",
   "execution_count": 5,
   "metadata": {},
   "outputs": [],
   "source": [
    "# finding the google maps URLs to all the tube stations\n",
    "\n",
    "\n",
    "# link to the website that generates the URLs \n",
    "linkgen_url = 'https://media.star-telegram.com/static/labs/GoogleMapLink2/index.html'\n",
    "\n",
    "# Getting the URL\n",
    "driver.get(linkgen_url)\n",
    "\n",
    "# finding the searchbox\n",
    "search_element = driver.find_element(By.XPATH, '//*[@id=\"autocomplete\"]')\n",
    "\n",
    "# function to get the URLs of the stations from the website\n",
    "def link_generator(name):\n",
    "        \n",
    "        textToEnter = name + ' Underground station'\n",
    "        \n",
    "        driver.execute_script(\"arguments[0].value=\\\"\" + textToEnter + \"\\\"\", search_element)\n",
    "\n",
    "        submit = driver.find_element(By.XPATH, '/html/body/button')\n",
    "        submit.click()\n",
    "\n",
    "        soup = BeautifulSoup(driver.page_source, \"html.parser\")\n",
    "        search_soup = soup.find(id=\"linkcopy\")\n",
    "\n",
    "        return search_soup.text\n"
   ]
  },
  {
   "cell_type": "code",
   "execution_count": 6,
   "metadata": {},
   "outputs": [],
   "source": [
    "# getting the URLs of the stations\n",
    "links = []\n",
    "\n",
    "for name in df['Station']:\n",
    "        links.append(link_generator(name))\n",
    "\n",
    "# making a dataframe from the list\n",
    "list_df = pd.DataFrame({'station_links' : links})\n",
    "\n",
    "# Converting the dataframe to a CSV file\n",
    "list_df.to_csv('C:/Users/snkri/OneDrive/Desktop/tfl_project/tube_stations_list.csv')"
   ]
  },
  {
   "cell_type": "code",
   "execution_count": 2,
   "metadata": {},
   "outputs": [],
   "source": [
    "df = pd.read_csv(\"C:/Users/snkri/OneDrive/Desktop/tfl_project/tube_stations_list.csv\", index_col=[0])"
   ]
  },
  {
   "cell_type": "code",
   "execution_count": 4,
   "metadata": {},
   "outputs": [],
   "source": [
    "for url in df['station_links']:\n",
    "        url.replace('&', 'and')"
   ]
  },
  {
   "cell_type": "code",
   "execution_count": 8,
   "metadata": {},
   "outputs": [
    {
     "name": "stdout",
     "output_type": "stream",
     "text": [
      "station_links    https://www.google.com/maps?q=Aldgate+Undergro...\n",
      "Name: 1, dtype: object\n"
     ]
    }
   ],
   "source": [
    "print(df.iloc[1])"
   ]
  },
  {
   "cell_type": "code",
   "execution_count": null,
   "metadata": {},
   "outputs": [],
   "source": []
  }
 ],
 "metadata": {
  "kernelspec": {
   "display_name": "Python 3",
   "language": "python",
   "name": "python3"
  },
  "language_info": {
   "codemirror_mode": {
    "name": "ipython",
    "version": 3
   },
   "file_extension": ".py",
   "mimetype": "text/x-python",
   "name": "python",
   "nbconvert_exporter": "python",
   "pygments_lexer": "ipython3",
   "version": "3.9.0"
  },
  "orig_nbformat": 4
 },
 "nbformat": 4,
 "nbformat_minor": 2
}
