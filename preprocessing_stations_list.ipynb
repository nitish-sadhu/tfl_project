{
 "cells": [
  {
   "cell_type": "code",
   "execution_count": 6,
   "metadata": {},
   "outputs": [],
   "source": [
    "# importing necessary packages\n",
    "\n",
    "from bs4 import BeautifulSoup\n",
    "from selenium import webdriver\n",
    "from selenium.webdriver.common.by import By\n",
    "from selenium.webdriver.support.wait import WebDriverWait\n",
    "from selenium.webdriver.support import expected_conditions as EC\n",
    "from selenium.webdriver.common.action_chains import ActionChains\n",
    "from selenium.common.exceptions import NoSuchElementException\n",
    "from selenium.webdriver.chrome.options import Options\n",
    "\n",
    "import time\n",
    "import pprint\n",
    "import pymongo\n",
    "from pymongo import MongoClient\n",
    "import pandas as pd\n",
    "import tqdm"
   ]
  },
  {
   "cell_type": "code",
   "execution_count": 7,
   "metadata": {},
   "outputs": [
    {
     "data": {
      "text/html": [
       "<div>\n",
       "<style scoped>\n",
       "    .dataframe tbody tr th:only-of-type {\n",
       "        vertical-align: middle;\n",
       "    }\n",
       "\n",
       "    .dataframe tbody tr th {\n",
       "        vertical-align: top;\n",
       "    }\n",
       "\n",
       "    .dataframe thead th {\n",
       "        text-align: right;\n",
       "    }\n",
       "</style>\n",
       "<table border=\"1\" class=\"dataframe\">\n",
       "  <thead>\n",
       "    <tr style=\"text-align: right;\">\n",
       "      <th></th>\n",
       "      <th>station_links</th>\n",
       "    </tr>\n",
       "  </thead>\n",
       "  <tbody>\n",
       "    <tr>\n",
       "      <th>0</th>\n",
       "      <td>https://www.google.com/maps?q=Acton+Town+Under...</td>\n",
       "    </tr>\n",
       "    <tr>\n",
       "      <th>1</th>\n",
       "      <td>https://www.google.com/maps?q=Aldgate+Undergro...</td>\n",
       "    </tr>\n",
       "    <tr>\n",
       "      <th>2</th>\n",
       "      <td>https://www.google.com/maps?q=Aldgate+East+Und...</td>\n",
       "    </tr>\n",
       "    <tr>\n",
       "      <th>3</th>\n",
       "      <td>https://www.google.com/maps?q=Alperton+Undergr...</td>\n",
       "    </tr>\n",
       "    <tr>\n",
       "      <th>4</th>\n",
       "      <td>https://www.google.com/maps?q=Amersham+Undergr...</td>\n",
       "    </tr>\n",
       "  </tbody>\n",
       "</table>\n",
       "</div>"
      ],
      "text/plain": [
       "                                       station_links\n",
       "0  https://www.google.com/maps?q=Acton+Town+Under...\n",
       "1  https://www.google.com/maps?q=Aldgate+Undergro...\n",
       "2  https://www.google.com/maps?q=Aldgate+East+Und...\n",
       "3  https://www.google.com/maps?q=Alperton+Undergr...\n",
       "4  https://www.google.com/maps?q=Amersham+Undergr..."
      ]
     },
     "execution_count": 7,
     "metadata": {},
     "output_type": "execute_result"
    }
   ],
   "source": [
    "# reading the tube_station_list.csv\n",
    "list_df = pd.read_csv(\"C:/Users/snkri/OneDrive/Desktop/tfl_project/tube_stations_list.csv\", index_col=[0])\n",
    "list_df.head()"
   ]
  },
  {
   "cell_type": "code",
   "execution_count": 8,
   "metadata": {},
   "outputs": [],
   "source": [
    "# creating a list of station links from links_list\n",
    "links_list = list_df['station_links']"
   ]
  },
  {
   "cell_type": "code",
   "execution_count": 9,
   "metadata": {},
   "outputs": [
    {
     "name": "stderr",
     "output_type": "stream",
     "text": [
      "100%|██████████| 272/272 [12:14<00:00,  2.70s/it]\n"
     ]
    }
   ],
   "source": [
    "# checking if the URLs in the list are correct\n",
    "\n",
    "# creating a chrome webdriver\n",
    "driver = webdriver.Chrome()\n",
    "\n",
    "# list for incorrect URLs\n",
    "bad_list = []\n",
    "\n",
    "# loop to find out the incorrect URLs\n",
    "for i in tqdm.tqdm(range(len(links_list))):\n",
    "        # getting the URLs\n",
    "        driver.get(links_list[i])\n",
    "        \n",
    "        # Clicking the accept button\n",
    "        if i == 0:\n",
    "            accept_button = driver.find_element(By.XPATH, '//*[@id=\"yDmH0d\"]/c-wiz/div/div/div/div[2]/div[1]/div[3]/div[1]/div[1]/form[2]/div/div/button/span')\n",
    "            accept_button.click()\n",
    "        \n",
    "        # Checking if the element exists\n",
    "        try:\n",
    "                driver.find_element(By.XPATH, '//*[@id=\"QA0Szd\"]/div/div/div[1]/div[2]/div/div[1]/div/div/div[2]/div/div[1]/div[2]/div/div[2]/span[1]/span/button')\n",
    "\n",
    "        # Appending the incorrect URLs to the bad_list\n",
    "        except:\n",
    "                bad_list.append(links_list[i])\n"
   ]
  },
  {
   "cell_type": "code",
   "execution_count": 18,
   "metadata": {},
   "outputs": [
    {
     "data": {
      "text/plain": [
       "['https://www.google.com/maps?q=Aldgate+Underground+station',\n",
       " 'https://www.google.com/maps?q=Barking+Underground+station',\n",
       " 'https://www.google.com/maps?q=Blackfriars+Underground+station',\n",
       " 'https://www.google.com/maps?q=Chalfont+&+Latimer+Underground+station',\n",
       " 'https://www.google.com/maps?q=Clapham+South+Underground+station',\n",
       " 'https://www.google.com/maps?q=Elephant+&+Castle+Underground+station',\n",
       " 'https://www.google.com/maps?q=Hainault+Underground+station',\n",
       " 'https://www.google.com/maps?q=Hammersmith+Underground+station',\n",
       " 'https://www.google.com/maps?q=Hammersmith+Underground+station',\n",
       " 'https://www.google.com/maps?q=Harrow+&+Wealdstone+Underground+station',\n",
       " 'https://www.google.com/maps?q=Harrow-on-the-Hill+Underground+station',\n",
       " 'https://www.google.com/maps?q=Heathrow+Terminals+2+&+3+Underground+station',\n",
       " 'https://www.google.com/maps?q=Heathrow+Terminal+5+Underground+station',\n",
       " 'https://www.google.com/maps?q=Highbury+&+Islington+Underground+station',\n",
       " 'https://www.google.com/maps?q=High+Street+Kensington+Underground+station',\n",
       " 'https://www.google.com/maps?q=Hornchurch+Underground+station',\n",
       " 'https://www.google.com/maps?q=Hounslow+East+Underground+station',\n",
       " 'https://www.google.com/maps?q=Hounslow+West+Underground+station',\n",
       " 'https://www.google.com/maps?q=Kensington+(Olympia)+Underground+station',\n",
       " 'https://www.google.com/maps?q=Kilburn+Underground+station',\n",
       " 'https://www.google.com/maps?q=Liverpool+Street+Underground+station',\n",
       " 'https://www.google.com/maps?q=London+Bridge+Underground+station',\n",
       " 'https://www.google.com/maps?q=North+Acton+Underground+station',\n",
       " 'https://www.google.com/maps?q=Paddington+Underground+station',\n",
       " 'https://www.google.com/maps?q=Paddington+Underground+station',\n",
       " 'https://www.google.com/maps?q=Putney+Bridge+Underground+station',\n",
       " 'https://www.google.com/maps?q=Ruislip+Underground+station',\n",
       " 'https://www.google.com/maps?q=Seven+Sisters+Underground+station',\n",
       " \"https://www.google.com/maps?q=Shepherd's+Bush+Underground+station\",\n",
       " 'https://www.google.com/maps?q=Totteridge+&+Whetstone+Underground+station',\n",
       " 'https://www.google.com/maps?q=Upminster+Underground+station',\n",
       " 'https://www.google.com/maps?q=Victoria+Underground+station',\n",
       " 'https://www.google.com/maps?q=Westbourne+Park+Underground+station',\n",
       " 'https://www.google.com/maps?q=Willesden+Junction+Underground+station',\n",
       " 'https://www.google.com/maps?q=Wimbledon+Park+Underground+station']"
      ]
     },
     "execution_count": 18,
     "metadata": {},
     "output_type": "execute_result"
    }
   ],
   "source": [
    "bad_list"
   ]
  },
  {
   "cell_type": "code",
   "execution_count": null,
   "metadata": {},
   "outputs": [],
   "source": []
  }
 ],
 "metadata": {
  "kernelspec": {
   "display_name": "Python 3",
   "language": "python",
   "name": "python3"
  },
  "language_info": {
   "codemirror_mode": {
    "name": "ipython",
    "version": 3
   },
   "file_extension": ".py",
   "mimetype": "text/x-python",
   "name": "python",
   "nbconvert_exporter": "python",
   "pygments_lexer": "ipython3",
   "version": "3.9.0"
  },
  "orig_nbformat": 4
 },
 "nbformat": 4,
 "nbformat_minor": 2
}
