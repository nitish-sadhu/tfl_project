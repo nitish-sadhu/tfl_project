{
 "cells": [
  {
   "cell_type": "code",
   "execution_count": 39,
   "metadata": {},
   "outputs": [],
   "source": [
    "# importing necessary packages\n",
    "\n",
    "from bs4 import BeautifulSoup\n",
    "from selenium import webdriver\n",
    "from selenium.webdriver.common.by import By\n",
    "from selenium.webdriver.support.wait import WebDriverWait\n",
    "from selenium.webdriver.support import expected_conditions as EC\n",
    "from selenium.webdriver.common.action_chains import ActionChains\n",
    "from selenium.common.exceptions import NoSuchElementException\n",
    "from selenium.webdriver.chrome.options import Options\n",
    "\n",
    "import time\n",
    "import pprint\n",
    "import pymongo\n",
    "from pymongo import MongoClient\n",
    "import pandas as pd\n",
    "import tqdm"
   ]
  },
  {
   "cell_type": "code",
   "execution_count": 40,
   "metadata": {},
   "outputs": [
    {
     "data": {
      "text/plain": [
       "Station                                                              Aldgate East\n",
       "Photograph                                                                    NaN\n",
       "Line(s)[*]                                          Hammersmith & City[d]District\n",
       "Local authority                                                     Tower Hamlets\n",
       "Zone(s)[†]                                                                      1\n",
       "Opened[5]                                6 October 1884 (resited 31 October 1938)\n",
       "Main line opened                                                              NaN\n",
       "Other name(s)[note 2]                  Commercial Road: (Proposed before opening)\n",
       "Usage (millions per year)[6]                                                10.23\n",
       "Area Served                                                           Whitechapel\n",
       "URL                             https://www.google.com/maps?q=Aldgate+East+Und...\n",
       "Name: 2, dtype: object"
      ]
     },
     "execution_count": 40,
     "metadata": {},
     "output_type": "execute_result"
    }
   ],
   "source": [
    "# reading the tube_station_list.csv\n",
    "list_df = pd.read_csv(\"C:/Users/snkri/OneDrive/Desktop/tfl_project/tube_stations_list.csv\", index_col=[0])\n",
    "list_df.iloc[2]"
   ]
  },
  {
   "cell_type": "code",
   "execution_count": 42,
   "metadata": {},
   "outputs": [
    {
     "data": {
      "text/plain": [
       "0    https://www.google.com/maps?q=Acton+Town+Under...\n",
       "1    https://www.google.com/maps?q=Aldgate+Undergro...\n",
       "2    https://www.google.com/maps?q=Aldgate+East+Und...\n",
       "3    https://www.google.com/maps?q=Alperton+Undergr...\n",
       "4    https://www.google.com/maps?q=Amersham+Undergr...\n",
       "Name: URL, dtype: object"
      ]
     },
     "execution_count": 42,
     "metadata": {},
     "output_type": "execute_result"
    }
   ],
   "source": [
    "# creating a list of station links from links_list\n",
    "links_list = list_df['URL']\n",
    "links_list[0:5]"
   ]
  },
  {
   "cell_type": "code",
   "execution_count": 24,
   "metadata": {},
   "outputs": [
    {
     "name": "stderr",
     "output_type": "stream",
     "text": [
      "100%|██████████| 272/272 [08:53<00:00,  1.96s/it]\n"
     ]
    }
   ],
   "source": [
    "# checking if the URLs in the list are correct\n",
    "\n",
    "# creating a chrome webdriver\n",
    "driver = webdriver.Firefox()\n",
    "\n",
    "# list for incorrect URLs\n",
    "bad_list = []\n",
    "\n",
    "# loop to find out the incorrect URLs\n",
    "for i in tqdm.tqdm(range(len(links_list))):\n",
    "        # getting the URLs\n",
    "        driver.get(links_list[i])\n",
    "        \n",
    "        # Clicking the accept button\n",
    "        if i == 0:\n",
    "            accept_button = driver.find_element(By.XPATH, '//*[@id=\"yDmH0d\"]/c-wiz/div/div/div/div[2]/div[1]/div[3]/div[1]/div[1]/form[2]/div/div/button/span')\n",
    "            accept_button.click()\n",
    "        \n",
    "        # Checking if the element exists\n",
    "        try:\n",
    "                driver.find_element(By.XPATH, '//*[@id=\"QA0Szd\"]/div/div/div[1]/div[2]/div/div[1]/div/div/div[2]/div/div[1]/div[2]/div/div[1]/div[2]/span[1]')\n",
    "                #driver.find_element(By.XPATH, '//*[@id=\"QA0Szd\"]/div/div/div[1]/div[2]/div/div[1]/div/div/div[2]/div/div[1]/div[1]/h1')\n",
    "\n",
    "        # Appending the incorrect URLs to the bad_list\n",
    "        except:\n",
    "                bad_list.append(links_list[i])\n"
   ]
  },
  {
   "cell_type": "code",
   "execution_count": 27,
   "metadata": {},
   "outputs": [
    {
     "data": {
      "text/plain": [
       "54"
      ]
     },
     "execution_count": 27,
     "metadata": {},
     "output_type": "execute_result"
    }
   ],
   "source": [
    "len(bad_list)"
   ]
  },
  {
   "cell_type": "code",
   "execution_count": 28,
   "metadata": {},
   "outputs": [],
   "source": [
    "bad_names = []\n",
    "\n",
    "for url in bad_list:\n",
    "        bad_names.append(url.split('=')[1].replace('+',\" \"))\n",
    "        "
   ]
  },
  {
   "cell_type": "code",
   "execution_count": 30,
   "metadata": {},
   "outputs": [
    {
     "name": "stdout",
     "output_type": "stream",
     "text": [
      "['https://www.google.com/maps?q=Acton+Town+Underground+station',\n",
      " 'https://www.google.com/maps?q=Aldgate+Underground+station',\n",
      " 'https://www.google.com/maps?q=Alperton+Underground+station',\n",
      " 'https://www.google.com/maps?q=Barking+Underground+station',\n",
      " 'https://www.google.com/maps?q=Barkingside+Underground+station',\n",
      " 'https://www.google.com/maps?q=Becontree+Underground+station',\n",
      " 'https://www.google.com/maps?q=Belsize+Park+Underground+station',\n",
      " 'https://www.google.com/maps?q=Blackfriars+Underground+station',\n",
      " 'https://www.google.com/maps?q=Bounds+Green+Underground+station',\n",
      " 'https://www.google.com/maps?q=Canary+Wharf+Underground+station',\n",
      " 'https://www.google.com/maps?q=Chalfont+&+Latimer+Underground+station',\n",
      " 'https://www.google.com/maps?q=Chorleywood+Underground+station',\n",
      " 'https://www.google.com/maps?q=Clapham+South+Underground+station',\n",
      " 'https://www.google.com/maps?q=Dagenham+East+Underground+station',\n",
      " 'https://www.google.com/maps?q=East+Finchley+Underground+station',\n",
      " 'https://www.google.com/maps?q=Edgware+Road+Underground+station',\n",
      " 'https://www.google.com/maps?q=Elephant+&+Castle+Underground+station',\n",
      " 'https://www.google.com/maps?q=Fairlop+Underground+station',\n",
      " 'https://www.google.com/maps?q=Farringdon+Underground+station',\n",
      " 'https://www.google.com/maps?q=Hainault+Underground+station',\n",
      " 'https://www.google.com/maps?q=Hammersmith+Underground+station',\n",
      " 'https://www.google.com/maps?q=Hammersmith+Underground+station',\n",
      " 'https://www.google.com/maps?q=Harrow+&+Wealdstone+Underground+station',\n",
      " 'https://www.google.com/maps?q=Harrow-on-the-Hill+Underground+station',\n",
      " 'https://www.google.com/maps?q=Hatton+Cross+Underground+station',\n",
      " 'https://www.google.com/maps?q=Heathrow+Terminals+2+&+3+Underground+station',\n",
      " 'https://www.google.com/maps?q=Heathrow+Terminal+5+Underground+station',\n",
      " 'https://www.google.com/maps?q=Highbury+&+Islington+Underground+station',\n",
      " 'https://www.google.com/maps?q=High+Street+Kensington+Underground+station',\n",
      " 'https://www.google.com/maps?q=Hillingdon+Underground+station',\n",
      " 'https://www.google.com/maps?q=Holland+Park+Underground+station',\n",
      " 'https://www.google.com/maps?q=Hounslow+East+Underground+station',\n",
      " 'https://www.google.com/maps?q=Hounslow+West+Underground+station',\n",
      " 'https://www.google.com/maps?q=Kensington+(Olympia)+Underground+station',\n",
      " 'https://www.google.com/maps?q=Kilburn+Underground+station',\n",
      " 'https://www.google.com/maps?q=Liverpool+Street+Underground+station',\n",
      " 'https://www.google.com/maps?q=London+Bridge+Underground+station',\n",
      " 'https://www.google.com/maps?q=Monument+Underground+station',\n",
      " 'https://www.google.com/maps?q=North+Acton+Underground+station',\n",
      " 'https://www.google.com/maps?q=Northwood+Underground+station',\n",
      " 'https://www.google.com/maps?q=Paddington+Underground+station',\n",
      " 'https://www.google.com/maps?q=Paddington+Underground+station',\n",
      " 'https://www.google.com/maps?q=Putney+Bridge+Underground+station',\n",
      " 'https://www.google.com/maps?q=Queensway+Underground+station',\n",
      " 'https://www.google.com/maps?q=Ruislip+Underground+station',\n",
      " 'https://www.google.com/maps?q=Seven+Sisters+Underground+station',\n",
      " \"https://www.google.com/maps?q=Shepherd's+Bush+Underground+station\",\n",
      " 'https://www.google.com/maps?q=South+Wimbledon+Underground+station',\n",
      " 'https://www.google.com/maps?q=South+Woodford+Underground+station',\n",
      " 'https://www.google.com/maps?q=Sudbury+Town+Underground+station',\n",
      " 'https://www.google.com/maps?q=Totteridge+&+Whetstone+Underground+station',\n",
      " 'https://www.google.com/maps?q=Victoria+Underground+station',\n",
      " 'https://www.google.com/maps?q=Westbourne+Park+Underground+station',\n",
      " 'https://www.google.com/maps?q=Wimbledon+Park+Underground+station']\n"
     ]
    }
   ],
   "source": [
    "pprint.pprint(bad_list)"
   ]
  },
  {
   "cell_type": "code",
   "execution_count": 31,
   "metadata": {},
   "outputs": [
    {
     "data": {
      "text/plain": [
       "54"
      ]
     },
     "execution_count": 31,
     "metadata": {},
     "output_type": "execute_result"
    }
   ],
   "source": [
    "len(bad_names)"
   ]
  },
  {
   "cell_type": "code",
   "execution_count": 32,
   "metadata": {},
   "outputs": [
    {
     "data": {
      "text/plain": [
       "['Acton Town Underground station',\n",
       " 'Aldgate Underground station',\n",
       " 'Alperton Underground station',\n",
       " 'Barking Underground station',\n",
       " 'Barkingside Underground station',\n",
       " 'Becontree Underground station',\n",
       " 'Belsize Park Underground station',\n",
       " 'Blackfriars Underground station',\n",
       " 'Bounds Green Underground station',\n",
       " 'Canary Wharf Underground station',\n",
       " 'Chalfont & Latimer Underground station',\n",
       " 'Chorleywood Underground station',\n",
       " 'Clapham South Underground station',\n",
       " 'Dagenham East Underground station',\n",
       " 'East Finchley Underground station',\n",
       " 'Edgware Road Underground station',\n",
       " 'Elephant & Castle Underground station',\n",
       " 'Fairlop Underground station',\n",
       " 'Farringdon Underground station',\n",
       " 'Hainault Underground station',\n",
       " 'Hammersmith Underground station',\n",
       " 'Hammersmith Underground station',\n",
       " 'Harrow & Wealdstone Underground station',\n",
       " 'Harrow-on-the-Hill Underground station',\n",
       " 'Hatton Cross Underground station',\n",
       " 'Heathrow Terminals 2 & 3 Underground station',\n",
       " 'Heathrow Terminal 5 Underground station',\n",
       " 'Highbury & Islington Underground station',\n",
       " 'High Street Kensington Underground station',\n",
       " 'Hillingdon Underground station',\n",
       " 'Holland Park Underground station',\n",
       " 'Hounslow East Underground station',\n",
       " 'Hounslow West Underground station',\n",
       " 'Kensington (Olympia) Underground station',\n",
       " 'Kilburn Underground station',\n",
       " 'Liverpool Street Underground station',\n",
       " 'London Bridge Underground station',\n",
       " 'Monument Underground station',\n",
       " 'North Acton Underground station',\n",
       " 'Northwood Underground station',\n",
       " 'Paddington Underground station',\n",
       " 'Paddington Underground station',\n",
       " 'Putney Bridge Underground station',\n",
       " 'Queensway Underground station',\n",
       " 'Ruislip Underground station',\n",
       " 'Seven Sisters Underground station',\n",
       " \"Shepherd's Bush Underground station\",\n",
       " 'South Wimbledon Underground station',\n",
       " 'South Woodford Underground station',\n",
       " 'Sudbury Town Underground station',\n",
       " 'Totteridge & Whetstone Underground station',\n",
       " 'Victoria Underground station',\n",
       " 'Westbourne Park Underground station',\n",
       " 'Wimbledon Park Underground station']"
      ]
     },
     "execution_count": 32,
     "metadata": {},
     "output_type": "execute_result"
    }
   ],
   "source": [
    "bad_names"
   ]
  },
  {
   "cell_type": "code",
   "execution_count": 35,
   "metadata": {},
   "outputs": [
    {
     "data": {
      "text/html": [
       "<div>\n",
       "<style scoped>\n",
       "    .dataframe tbody tr th:only-of-type {\n",
       "        vertical-align: middle;\n",
       "    }\n",
       "\n",
       "    .dataframe tbody tr th {\n",
       "        vertical-align: top;\n",
       "    }\n",
       "\n",
       "    .dataframe thead th {\n",
       "        text-align: right;\n",
       "    }\n",
       "</style>\n",
       "<table border=\"1\" class=\"dataframe\">\n",
       "  <thead>\n",
       "    <tr style=\"text-align: right;\">\n",
       "      <th></th>\n",
       "      <th>station_name</th>\n",
       "    </tr>\n",
       "  </thead>\n",
       "  <tbody>\n",
       "    <tr>\n",
       "      <th>0</th>\n",
       "      <td>Acton Town Underground station</td>\n",
       "    </tr>\n",
       "    <tr>\n",
       "      <th>1</th>\n",
       "      <td>Aldgate Underground station</td>\n",
       "    </tr>\n",
       "    <tr>\n",
       "      <th>2</th>\n",
       "      <td>Alperton Underground station</td>\n",
       "    </tr>\n",
       "    <tr>\n",
       "      <th>3</th>\n",
       "      <td>Barking Underground station</td>\n",
       "    </tr>\n",
       "    <tr>\n",
       "      <th>4</th>\n",
       "      <td>Barkingside Underground station</td>\n",
       "    </tr>\n",
       "  </tbody>\n",
       "</table>\n",
       "</div>"
      ],
      "text/plain": [
       "                      station_name\n",
       "0   Acton Town Underground station\n",
       "1      Aldgate Underground station\n",
       "2     Alperton Underground station\n",
       "3      Barking Underground station\n",
       "4  Barkingside Underground station"
      ]
     },
     "execution_count": 35,
     "metadata": {},
     "output_type": "execute_result"
    }
   ],
   "source": [
    "bad_name_df = pd.DataFrame({'station_name' : bad_names})\n",
    "bad_name_df.head()"
   ]
  },
  {
   "cell_type": "code",
   "execution_count": 36,
   "metadata": {},
   "outputs": [],
   "source": [
    "bad_name_df.to_csv('C:/Users/snkri/OneDrive/Desktop/tfl_project/bad_stations.csv')"
   ]
  },
  {
   "cell_type": "code",
   "execution_count": null,
   "metadata": {},
   "outputs": [],
   "source": []
  }
 ],
 "metadata": {
  "kernelspec": {
   "display_name": "Python 3",
   "language": "python",
   "name": "python3"
  },
  "language_info": {
   "codemirror_mode": {
    "name": "ipython",
    "version": 3
   },
   "file_extension": ".py",
   "mimetype": "text/x-python",
   "name": "python",
   "nbconvert_exporter": "python",
   "pygments_lexer": "ipython3",
   "version": "3.9.0"
  },
  "orig_nbformat": 4
 },
 "nbformat": 4,
 "nbformat_minor": 2
}
